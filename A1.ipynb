{
  "nbformat": 4,
  "nbformat_minor": 0,
  "metadata": {
    "colab": {
      "provenance": []
    },
    "kernelspec": {
      "name": "python3",
      "display_name": "Python 3"
    },
    "language_info": {
      "name": "python"
    }
  },
  "cells": [
    {
      "cell_type": "markdown",
      "source": [
        "**1.Write a Python program to find the area of a circle with a given radius using the formula area = pi * r ** 2. Assume that pi is 3.14.**"
      ],
      "metadata": {
        "id": "JdkzBJpYqhEN"
      }
    },
    {
      "cell_type": "code",
      "source": [
        "r = int(input('enter the radius of the circle:'))\n",
        "pi = 3.14\n",
        "area =pi * r ** 2\n",
        "print('the area of the circle is',area)"
      ],
      "metadata": {
        "colab": {
          "base_uri": "https://localhost:8080/"
        },
        "id": "axctqpq8qbgA",
        "outputId": "a7cb2c8a-4bea-4153-d4bd-c984cdfdfe67"
      },
      "execution_count": null,
      "outputs": [
        {
          "output_type": "stream",
          "name": "stdout",
          "text": [
            "enter the radius of the circle:4\n",
            "the area of the circle is 50.24\n"
          ]
        }
      ]
    },
    {
      "cell_type": "markdown",
      "source": [
        "**2. Write a Python program to convert Celsius to Fahrenheit using the\n",
        "formula F = (C * 9/5) + 32.**"
      ],
      "metadata": {
        "id": "Cx1MtErLrrRs"
      }
    },
    {
      "cell_type": "code",
      "source": [
        "C = float(input('Enter the celsius:'))\n",
        "F =((C * 9/5) + 32.)\n",
        "print('Fahrenheit:',F)"
      ],
      "metadata": {
        "colab": {
          "base_uri": "https://localhost:8080/"
        },
        "id": "i1Z9RagtrffC",
        "outputId": "79a5cbab-bf7d-4ff4-cbac-551e8c247afc"
      },
      "execution_count": null,
      "outputs": [
        {
          "output_type": "stream",
          "name": "stdout",
          "text": [
            "Enter the celsius:28\n",
            "Fahrenheit: 82.4\n"
          ]
        }
      ]
    },
    {
      "cell_type": "markdown",
      "source": [
        "**3. Write a Python program to find the quotient and remainder of two\n",
        "numbers using the division operator / and the modulo operator %.**"
      ],
      "metadata": {
        "id": "ZeemQgidsu9t"
      }
    },
    {
      "cell_type": "code",
      "source": [
        "a = int(input('Enter the first number:'))\n",
        "b =int(input('Enter the second number:'))\n",
        "q = a//b\n",
        "m = a%b\n",
        "print('the quotient is',q)\n",
        "print('the  remainder is',m)"
      ],
      "metadata": {
        "colab": {
          "base_uri": "https://localhost:8080/"
        },
        "id": "05wQi2vIsm0V",
        "outputId": "30f8847c-5cfc-46c1-d076-0e4928388b1e"
      },
      "execution_count": null,
      "outputs": [
        {
          "output_type": "stream",
          "name": "stdout",
          "text": [
            "Enter the first number:4\n",
            "Enter the second number:6\n",
            "the quotient is 0\n",
            "the  remainder is 4\n"
          ]
        }
      ]
    },
    {
      "cell_type": "markdown",
      "source": [
        "**4. Write a Python program to check whether a given number is even or odd\n",
        "using the modulo operator %.**"
      ],
      "metadata": {
        "id": "Wfeh6kkrub6G"
      }
    },
    {
      "cell_type": "code",
      "source": [
        "a = int(input('Enter the number:'))\n",
        "if(a % 2==0):\n",
        "  print(\"the number is even\")\n",
        "else:\n",
        "  print(\"the number is odd\")"
      ],
      "metadata": {
        "colab": {
          "base_uri": "https://localhost:8080/"
        },
        "id": "UpCD0P5VtebC",
        "outputId": "bd48641f-f376-4251-9296-88ba06569f3e"
      },
      "execution_count": null,
      "outputs": [
        {
          "output_type": "stream",
          "name": "stdout",
          "text": [
            "Enter the number:5\n",
            "the number is odd\n"
          ]
        }
      ]
    },
    {
      "cell_type": "markdown",
      "source": [
        "**5. Write a Python program to calculate the average of three numbers\n",
        "entered by the user.**"
      ],
      "metadata": {
        "id": "tHrtu1zxxqHT"
      }
    },
    {
      "cell_type": "code",
      "source": [
        "a = float(input('Enter the number:'))\n",
        "b = float(input('Enter the number:'))\n",
        "c = float(input('Enter the number:'))\n",
        "avg = (a+b+c)/3\n",
        "print('The average is :',avg)"
      ],
      "metadata": {
        "colab": {
          "base_uri": "https://localhost:8080/"
        },
        "id": "NmGnV3Iv5qq8",
        "outputId": "ff7b157b-b89f-445d-eec7-365b1b1f3e40"
      },
      "execution_count": null,
      "outputs": [
        {
          "output_type": "stream",
          "name": "stdout",
          "text": [
            "Enter the number:2\n",
            "Enter the number:4\n",
            "Enter the number:6\n",
            "The average is : 4.0\n"
          ]
        }
      ]
    },
    {
      "cell_type": "markdown",
      "source": [
        "**6. Write a Python program to swap two variables without using a\n",
        "temporary variable.**"
      ],
      "metadata": {
        "id": "RJTU1oP41wyw"
      }
    },
    {
      "cell_type": "code",
      "source": [
        "a = 20\n",
        "b = 40\n",
        "a = a+b\n",
        "b = a-b\n",
        "a = a-b\n",
        "print('Value of a',a)\n",
        "print('Value of b',b)"
      ],
      "metadata": {
        "colab": {
          "base_uri": "https://localhost:8080/"
        },
        "id": "UEzxuKYo5bdL",
        "outputId": "0bca5d9f-91cc-46b4-bf39-307788a94954"
      },
      "execution_count": null,
      "outputs": [
        {
          "output_type": "stream",
          "name": "stdout",
          "text": [
            "Value of a 40\n",
            "Value of b 20\n"
          ]
        }
      ]
    },
    {
      "cell_type": "markdown",
      "source": [
        "**7. Write a Python program to calculate the area of a rectangle with given\n",
        "length and breadth.**"
      ],
      "metadata": {
        "id": "H60cy8MQ6lkb"
      }
    },
    {
      "cell_type": "code",
      "source": [
        "a1 = float(input('Enter the lenght:'))\n",
        "a2 = float(input('Enter the Breadth:'))\n",
        "area = a1*a2\n",
        "print('The area is:',area)\n"
      ],
      "metadata": {
        "colab": {
          "base_uri": "https://localhost:8080/"
        },
        "id": "_2P65XWe5-AK",
        "outputId": "e94d9365-b7d3-4445-a52b-0287ee279956"
      },
      "execution_count": null,
      "outputs": [
        {
          "output_type": "stream",
          "name": "stdout",
          "text": [
            "Enter the lenght:4\n",
            "Enter the Breadth:5\n",
            "The area is: 20.0\n"
          ]
        }
      ]
    },
    {
      "cell_type": "markdown",
      "source": [
        "**8. Write a Python program to calculate the sum of the digits of a three-digit\n",
        "number.**"
      ],
      "metadata": {
        "id": "Yld9ks_e8GoU"
      }
    },
    {
      "cell_type": "code",
      "source": [
        "num = 256\n",
        "sum = num//100+(num%100)//10+num%10\n",
        "print('The sum of the three digits number is:',sum)"
      ],
      "metadata": {
        "colab": {
          "base_uri": "https://localhost:8080/"
        },
        "id": "Jmp6ufby7l7H",
        "outputId": "0b06936d-a3fe-4c04-f76b-e7cafb877328"
      },
      "execution_count": null,
      "outputs": [
        {
          "output_type": "stream",
          "name": "stdout",
          "text": [
            "The sum of the three digits number is: 13\n"
          ]
        }
      ]
    },
    {
      "cell_type": "markdown",
      "source": [
        "**9. Write a Python program to check whether a given year is a leap year or\n",
        "not.**"
      ],
      "metadata": {
        "id": "_LCL_MJ29f4Q"
      }
    },
    {
      "cell_type": "code",
      "source": [
        "year=int(input('enter the year'))\n",
        "if(year%4==0 or year%400==0):\n",
        "  print('its a leap year')\n",
        "else:\n",
        "   print('Its not a leap year')"
      ],
      "metadata": {
        "colab": {
          "base_uri": "https://localhost:8080/"
        },
        "id": "79ypWaWr9VTd",
        "outputId": "7489ffb0-ae9f-4858-b6a1-58d81d66ff7f"
      },
      "execution_count": null,
      "outputs": [
        {
          "output_type": "stream",
          "name": "stdout",
          "text": [
            "enter the year2016\n",
            "its a leap year\n"
          ]
        }
      ]
    },
    {
      "cell_type": "markdown",
      "source": [
        "**10.Write a Python program to find the maximum and minimum of two\n",
        "numbers entered by the user**"
      ],
      "metadata": {
        "id": "2hci4328K8Ld"
      }
    },
    {
      "cell_type": "code",
      "source": [
        "n1=(int(input('enter the frist number')))\n",
        "n2=int(input(\"enter the scond number\"))\n",
        "if(n1>n2):\n",
        "  print('In both numbers ',n1,' is great',)\n",
        "elif(n1==n2):\n",
        "  print('both are equal')\n",
        "else:\n",
        "   print('In both numbers ',n2,' is great',)"
      ],
      "metadata": {
        "id": "ijyCahaK-O5g",
        "colab": {
          "base_uri": "https://localhost:8080/"
        },
        "outputId": "1b6e3784-c35a-498f-d403-7ffa34173485"
      },
      "execution_count": null,
      "outputs": [
        {
          "output_type": "stream",
          "name": "stdout",
          "text": [
            "enter the frist number8\n",
            "enter the scond number5\n",
            "In both numbers  8  is great\n"
          ]
        }
      ]
    },
    {
      "cell_type": "code",
      "source": [],
      "metadata": {
        "id": "tiJ3OijVMNM0"
      },
      "execution_count": null,
      "outputs": []
    }
  ]
}